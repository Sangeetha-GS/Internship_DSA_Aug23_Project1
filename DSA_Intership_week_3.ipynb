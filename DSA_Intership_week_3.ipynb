{
  "nbformat": 4,
  "nbformat_minor": 0,
  "metadata": {
    "colab": {
      "provenance": []
    },
    "kernelspec": {
      "name": "python3",
      "display_name": "Python 3"
    },
    "language_info": {
      "name": "python"
    }
  },
  "cells": [
    {
      "cell_type": "markdown",
      "source": [
        "Internship on Data Science and Analytics - Project 1 - Credit Score Classiﬁcation Model Development"
      ],
      "metadata": {
        "id": "3cMkKWYuRXVD"
      }
    },
    {
      "cell_type": "markdown",
      "source": [
        "Phase 3: Week 3 - Model Optimization and Validation\n",
        "\n",
        "* Objective : Optimize the selected model and validate its performance"
      ],
      "metadata": {
        "id": "pmNxI8mXRhly"
      }
    },
    {
      "cell_type": "code",
      "source": [
        "import pandas as pd\n",
        "\n",
        "# Reading the CSV files\n",
        "train_data = pd.read_csv('/content/credit_train_data.csv')\n",
        "test_data = pd.read_csv('/content/credit_test_data.csv')\n",
        "val_data = pd.read_csv('/content/credit_val_data.csv')\n",
        "\n",
        "# Separating features and target variable\n",
        "X_train = train_data.drop(columns=['Credit_Score'])\n",
        "y_train = train_data['Credit_Score']\n",
        "\n",
        "X_test = test_data.drop(columns=['Credit_Score'])\n",
        "y_test = test_data['Credit_Score']\n",
        "\n",
        "X_val = val_data.drop(columns=['Credit_Score'])\n",
        "y_val = val_data['Credit_Score']\n"
      ],
      "metadata": {
        "id": "gX3FSSjpbGKV"
      },
      "execution_count": 4,
      "outputs": []
    },
    {
      "cell_type": "code",
      "source": [
        "# Printing the shapes of the resulting sets\n",
        "print(\"Training set shape:\", X_train.shape, y_train.shape)\n",
        "print(\"Test set shape:\", X_test.shape, y_test.shape)\n",
        "print(\"Validation set shape:\", X_val.shape, y_val.shape)"
      ],
      "metadata": {
        "colab": {
          "base_uri": "https://localhost:8080/"
        },
        "id": "mJGFOHc7bimT",
        "outputId": "2ce35be4-7acc-40ab-e636-18b5645b912a"
      },
      "execution_count": 5,
      "outputs": [
        {
          "output_type": "stream",
          "name": "stdout",
          "text": [
            "Training set shape: (70000, 7) (70000,)\n",
            "Test set shape: (15000, 7) (15000,)\n",
            "Validation set shape: (15000, 7) (15000,)\n"
          ]
        }
      ]
    },
    {
      "cell_type": "code",
      "source": [
        "X_train.head(2)"
      ],
      "metadata": {
        "colab": {
          "base_uri": "https://localhost:8080/",
          "height": 112
        },
        "id": "rXGm-fT_4u-H",
        "outputId": "f6dc154b-74ff-4d0b-9e09-e761aea9c1ec"
      },
      "execution_count": 6,
      "outputs": [
        {
          "output_type": "execute_result",
          "data": {
            "text/plain": [
              "   Age  Annual_Income  Monthly_Inhand_Salary  Credit_Mix  Credit_History_Age  \\\n",
              "0   21      151649.36           12823.446667           2               359.0   \n",
              "1   26      100465.14            8279.095000           2               393.0   \n",
              "\n",
              "   Amount_invested_monthly  Monthly_Balance  \n",
              "0               119.785966       564.160553  \n",
              "1               127.271779       912.787408  "
            ],
            "text/html": [
              "\n",
              "  <div id=\"df-c4d6519c-3646-4520-a38a-b652863f6e88\" class=\"colab-df-container\">\n",
              "    <div>\n",
              "<style scoped>\n",
              "    .dataframe tbody tr th:only-of-type {\n",
              "        vertical-align: middle;\n",
              "    }\n",
              "\n",
              "    .dataframe tbody tr th {\n",
              "        vertical-align: top;\n",
              "    }\n",
              "\n",
              "    .dataframe thead th {\n",
              "        text-align: right;\n",
              "    }\n",
              "</style>\n",
              "<table border=\"1\" class=\"dataframe\">\n",
              "  <thead>\n",
              "    <tr style=\"text-align: right;\">\n",
              "      <th></th>\n",
              "      <th>Age</th>\n",
              "      <th>Annual_Income</th>\n",
              "      <th>Monthly_Inhand_Salary</th>\n",
              "      <th>Credit_Mix</th>\n",
              "      <th>Credit_History_Age</th>\n",
              "      <th>Amount_invested_monthly</th>\n",
              "      <th>Monthly_Balance</th>\n",
              "    </tr>\n",
              "  </thead>\n",
              "  <tbody>\n",
              "    <tr>\n",
              "      <th>0</th>\n",
              "      <td>21</td>\n",
              "      <td>151649.36</td>\n",
              "      <td>12823.446667</td>\n",
              "      <td>2</td>\n",
              "      <td>359.0</td>\n",
              "      <td>119.785966</td>\n",
              "      <td>564.160553</td>\n",
              "    </tr>\n",
              "    <tr>\n",
              "      <th>1</th>\n",
              "      <td>26</td>\n",
              "      <td>100465.14</td>\n",
              "      <td>8279.095000</td>\n",
              "      <td>2</td>\n",
              "      <td>393.0</td>\n",
              "      <td>127.271779</td>\n",
              "      <td>912.787408</td>\n",
              "    </tr>\n",
              "  </tbody>\n",
              "</table>\n",
              "</div>\n",
              "    <div class=\"colab-df-buttons\">\n",
              "\n",
              "  <div class=\"colab-df-container\">\n",
              "    <button class=\"colab-df-convert\" onclick=\"convertToInteractive('df-c4d6519c-3646-4520-a38a-b652863f6e88')\"\n",
              "            title=\"Convert this dataframe to an interactive table.\"\n",
              "            style=\"display:none;\">\n",
              "\n",
              "  <svg xmlns=\"http://www.w3.org/2000/svg\" height=\"24px\" viewBox=\"0 -960 960 960\">\n",
              "    <path d=\"M120-120v-720h720v720H120Zm60-500h600v-160H180v160Zm220 220h160v-160H400v160Zm0 220h160v-160H400v160ZM180-400h160v-160H180v160Zm440 0h160v-160H620v160ZM180-180h160v-160H180v160Zm440 0h160v-160H620v160Z\"/>\n",
              "  </svg>\n",
              "    </button>\n",
              "\n",
              "  <style>\n",
              "    .colab-df-container {\n",
              "      display:flex;\n",
              "      gap: 12px;\n",
              "    }\n",
              "\n",
              "    .colab-df-convert {\n",
              "      background-color: #E8F0FE;\n",
              "      border: none;\n",
              "      border-radius: 50%;\n",
              "      cursor: pointer;\n",
              "      display: none;\n",
              "      fill: #1967D2;\n",
              "      height: 32px;\n",
              "      padding: 0 0 0 0;\n",
              "      width: 32px;\n",
              "    }\n",
              "\n",
              "    .colab-df-convert:hover {\n",
              "      background-color: #E2EBFA;\n",
              "      box-shadow: 0px 1px 2px rgba(60, 64, 67, 0.3), 0px 1px 3px 1px rgba(60, 64, 67, 0.15);\n",
              "      fill: #174EA6;\n",
              "    }\n",
              "\n",
              "    .colab-df-buttons div {\n",
              "      margin-bottom: 4px;\n",
              "    }\n",
              "\n",
              "    [theme=dark] .colab-df-convert {\n",
              "      background-color: #3B4455;\n",
              "      fill: #D2E3FC;\n",
              "    }\n",
              "\n",
              "    [theme=dark] .colab-df-convert:hover {\n",
              "      background-color: #434B5C;\n",
              "      box-shadow: 0px 1px 3px 1px rgba(0, 0, 0, 0.15);\n",
              "      filter: drop-shadow(0px 1px 2px rgba(0, 0, 0, 0.3));\n",
              "      fill: #FFFFFF;\n",
              "    }\n",
              "  </style>\n",
              "\n",
              "    <script>\n",
              "      const buttonEl =\n",
              "        document.querySelector('#df-c4d6519c-3646-4520-a38a-b652863f6e88 button.colab-df-convert');\n",
              "      buttonEl.style.display =\n",
              "        google.colab.kernel.accessAllowed ? 'block' : 'none';\n",
              "\n",
              "      async function convertToInteractive(key) {\n",
              "        const element = document.querySelector('#df-c4d6519c-3646-4520-a38a-b652863f6e88');\n",
              "        const dataTable =\n",
              "          await google.colab.kernel.invokeFunction('convertToInteractive',\n",
              "                                                    [key], {});\n",
              "        if (!dataTable) return;\n",
              "\n",
              "        const docLinkHtml = 'Like what you see? Visit the ' +\n",
              "          '<a target=\"_blank\" href=https://colab.research.google.com/notebooks/data_table.ipynb>data table notebook</a>'\n",
              "          + ' to learn more about interactive tables.';\n",
              "        element.innerHTML = '';\n",
              "        dataTable['output_type'] = 'display_data';\n",
              "        await google.colab.output.renderOutput(dataTable, element);\n",
              "        const docLink = document.createElement('div');\n",
              "        docLink.innerHTML = docLinkHtml;\n",
              "        element.appendChild(docLink);\n",
              "      }\n",
              "    </script>\n",
              "  </div>\n",
              "\n",
              "\n",
              "<div id=\"df-0446432a-d78c-441d-8539-ba76db93935f\">\n",
              "  <button class=\"colab-df-quickchart\" onclick=\"quickchart('df-0446432a-d78c-441d-8539-ba76db93935f')\"\n",
              "            title=\"Suggest charts\"\n",
              "            style=\"display:none;\">\n",
              "\n",
              "<svg xmlns=\"http://www.w3.org/2000/svg\" height=\"24px\"viewBox=\"0 0 24 24\"\n",
              "     width=\"24px\">\n",
              "    <g>\n",
              "        <path d=\"M19 3H5c-1.1 0-2 .9-2 2v14c0 1.1.9 2 2 2h14c1.1 0 2-.9 2-2V5c0-1.1-.9-2-2-2zM9 17H7v-7h2v7zm4 0h-2V7h2v10zm4 0h-2v-4h2v4z\"/>\n",
              "    </g>\n",
              "</svg>\n",
              "  </button>\n",
              "\n",
              "<style>\n",
              "  .colab-df-quickchart {\n",
              "      --bg-color: #E8F0FE;\n",
              "      --fill-color: #1967D2;\n",
              "      --hover-bg-color: #E2EBFA;\n",
              "      --hover-fill-color: #174EA6;\n",
              "      --disabled-fill-color: #AAA;\n",
              "      --disabled-bg-color: #DDD;\n",
              "  }\n",
              "\n",
              "  [theme=dark] .colab-df-quickchart {\n",
              "      --bg-color: #3B4455;\n",
              "      --fill-color: #D2E3FC;\n",
              "      --hover-bg-color: #434B5C;\n",
              "      --hover-fill-color: #FFFFFF;\n",
              "      --disabled-bg-color: #3B4455;\n",
              "      --disabled-fill-color: #666;\n",
              "  }\n",
              "\n",
              "  .colab-df-quickchart {\n",
              "    background-color: var(--bg-color);\n",
              "    border: none;\n",
              "    border-radius: 50%;\n",
              "    cursor: pointer;\n",
              "    display: none;\n",
              "    fill: var(--fill-color);\n",
              "    height: 32px;\n",
              "    padding: 0;\n",
              "    width: 32px;\n",
              "  }\n",
              "\n",
              "  .colab-df-quickchart:hover {\n",
              "    background-color: var(--hover-bg-color);\n",
              "    box-shadow: 0 1px 2px rgba(60, 64, 67, 0.3), 0 1px 3px 1px rgba(60, 64, 67, 0.15);\n",
              "    fill: var(--button-hover-fill-color);\n",
              "  }\n",
              "\n",
              "  .colab-df-quickchart-complete:disabled,\n",
              "  .colab-df-quickchart-complete:disabled:hover {\n",
              "    background-color: var(--disabled-bg-color);\n",
              "    fill: var(--disabled-fill-color);\n",
              "    box-shadow: none;\n",
              "  }\n",
              "\n",
              "  .colab-df-spinner {\n",
              "    border: 2px solid var(--fill-color);\n",
              "    border-color: transparent;\n",
              "    border-bottom-color: var(--fill-color);\n",
              "    animation:\n",
              "      spin 1s steps(1) infinite;\n",
              "  }\n",
              "\n",
              "  @keyframes spin {\n",
              "    0% {\n",
              "      border-color: transparent;\n",
              "      border-bottom-color: var(--fill-color);\n",
              "      border-left-color: var(--fill-color);\n",
              "    }\n",
              "    20% {\n",
              "      border-color: transparent;\n",
              "      border-left-color: var(--fill-color);\n",
              "      border-top-color: var(--fill-color);\n",
              "    }\n",
              "    30% {\n",
              "      border-color: transparent;\n",
              "      border-left-color: var(--fill-color);\n",
              "      border-top-color: var(--fill-color);\n",
              "      border-right-color: var(--fill-color);\n",
              "    }\n",
              "    40% {\n",
              "      border-color: transparent;\n",
              "      border-right-color: var(--fill-color);\n",
              "      border-top-color: var(--fill-color);\n",
              "    }\n",
              "    60% {\n",
              "      border-color: transparent;\n",
              "      border-right-color: var(--fill-color);\n",
              "    }\n",
              "    80% {\n",
              "      border-color: transparent;\n",
              "      border-right-color: var(--fill-color);\n",
              "      border-bottom-color: var(--fill-color);\n",
              "    }\n",
              "    90% {\n",
              "      border-color: transparent;\n",
              "      border-bottom-color: var(--fill-color);\n",
              "    }\n",
              "  }\n",
              "</style>\n",
              "\n",
              "  <script>\n",
              "    async function quickchart(key) {\n",
              "      const quickchartButtonEl =\n",
              "        document.querySelector('#' + key + ' button');\n",
              "      quickchartButtonEl.disabled = true;  // To prevent multiple clicks.\n",
              "      quickchartButtonEl.classList.add('colab-df-spinner');\n",
              "      try {\n",
              "        const charts = await google.colab.kernel.invokeFunction(\n",
              "            'suggestCharts', [key], {});\n",
              "      } catch (error) {\n",
              "        console.error('Error during call to suggestCharts:', error);\n",
              "      }\n",
              "      quickchartButtonEl.classList.remove('colab-df-spinner');\n",
              "      quickchartButtonEl.classList.add('colab-df-quickchart-complete');\n",
              "    }\n",
              "    (() => {\n",
              "      let quickchartButtonEl =\n",
              "        document.querySelector('#df-0446432a-d78c-441d-8539-ba76db93935f button');\n",
              "      quickchartButtonEl.style.display =\n",
              "        google.colab.kernel.accessAllowed ? 'block' : 'none';\n",
              "    })();\n",
              "  </script>\n",
              "</div>\n",
              "\n",
              "    </div>\n",
              "  </div>\n"
            ],
            "application/vnd.google.colaboratory.intrinsic+json": {
              "type": "dataframe",
              "variable_name": "X_train",
              "summary": "{\n  \"name\": \"X_train\",\n  \"rows\": 70000,\n  \"fields\": [\n    {\n      \"column\": \"Age\",\n      \"properties\": {\n        \"dtype\": \"number\",\n        \"std\": 10,\n        \"min\": 14,\n        \"max\": 56,\n        \"num_unique_values\": 43,\n        \"samples\": [\n          56,\n          22,\n          41\n        ],\n        \"semantic_type\": \"\",\n        \"description\": \"\"\n      }\n    },\n    {\n      \"column\": \"Annual_Income\",\n      \"properties\": {\n        \"dtype\": \"number\",\n        \"std\": 38197.21790021397,\n        \"min\": 7005.93,\n        \"max\": 179987.28,\n        \"num_unique_values\": 12486,\n        \"samples\": [\n          32842.44,\n          18235.61,\n          43241.49\n        ],\n        \"semantic_type\": \"\",\n        \"description\": \"\"\n      }\n    },\n    {\n      \"column\": \"Monthly_Inhand_Salary\",\n      \"properties\": {\n        \"dtype\": \"number\",\n        \"std\": 3177.5203402625375,\n        \"min\": 303.6454166666666,\n        \"max\": 15204.633333333331,\n        \"num_unique_values\": 13149,\n        \"samples\": [\n          7470.075969853417,\n          3497.9083333333333,\n          11051.445\n        ],\n        \"semantic_type\": \"\",\n        \"description\": \"\"\n      }\n    },\n    {\n      \"column\": \"Credit_Mix\",\n      \"properties\": {\n        \"dtype\": \"number\",\n        \"std\": 0,\n        \"min\": 0,\n        \"max\": 2,\n        \"num_unique_values\": 3,\n        \"samples\": [\n          2,\n          1,\n          0\n        ],\n        \"semantic_type\": \"\",\n        \"description\": \"\"\n      }\n    },\n    {\n      \"column\": \"Credit_History_Age\",\n      \"properties\": {\n        \"dtype\": \"number\",\n        \"std\": 99.5836599149009,\n        \"min\": 1.0,\n        \"max\": 404.0,\n        \"num_unique_values\": 404,\n        \"samples\": [\n          186.0,\n          396.0,\n          283.0\n        ],\n        \"semantic_type\": \"\",\n        \"description\": \"\"\n      }\n    },\n    {\n      \"column\": \"Amount_invested_monthly\",\n      \"properties\": {\n        \"dtype\": \"number\",\n        \"std\": 38.987804467510735,\n        \"min\": 0.0,\n        \"max\": 434.1910893520318,\n        \"num_unique_values\": 12259,\n        \"samples\": [\n          46.2456926919752,\n          45.39012955896059,\n          90.1081285997706\n        ],\n        \"semantic_type\": \"\",\n        \"description\": \"\"\n      }\n    },\n    {\n      \"column\": \"Monthly_Balance\",\n      \"properties\": {\n        \"dtype\": \"number\",\n        \"std\": 201.4890478750631,\n        \"min\": 0.0077596647753352,\n        \"max\": 1183.9306960885192,\n        \"num_unique_values\": 69186,\n        \"samples\": [\n          356.07499977299307,\n          346.65638902264857,\n          662.1368660341625\n        ],\n        \"semantic_type\": \"\",\n        \"description\": \"\"\n      }\n    }\n  ]\n}"
            }
          },
          "metadata": {},
          "execution_count": 6
        }
      ]
    },
    {
      "cell_type": "code",
      "source": [
        "y_train.head(2)"
      ],
      "metadata": {
        "colab": {
          "base_uri": "https://localhost:8080/"
        },
        "id": "CExnll_95Ck3",
        "outputId": "4679dc06-2590-498c-ba30-02d148f94112"
      },
      "execution_count": 7,
      "outputs": [
        {
          "output_type": "execute_result",
          "data": {
            "text/plain": [
              "0    0\n",
              "1    1\n",
              "Name: Credit_Score, dtype: int64"
            ]
          },
          "metadata": {},
          "execution_count": 7
        }
      ]
    },
    {
      "cell_type": "markdown",
      "source": [
        "Model Training without Hyperparameter Tuning"
      ],
      "metadata": {
        "id": "Ep5b8D8bl2-D"
      }
    },
    {
      "cell_type": "markdown",
      "source": [
        "*   Random Forest Classifier"
      ],
      "metadata": {
        "id": "CI_gkTaSbw6q"
      }
    },
    {
      "cell_type": "code",
      "source": [
        "from sklearn.ensemble import RandomForestClassifier\n",
        "from sklearn.metrics import classification_report\n",
        "from sklearn.metrics import accuracy_score\n",
        "\n",
        "# Building Model\n",
        "rf_classifier = RandomForestClassifier(n_estimators=100, random_state=42)\n",
        "rf_classifier.fit(X_train, y_train)\n",
        "\n",
        "# Evaluate Model\n",
        "y_pred = rf_classifier.predict(X_test)\n",
        "\n",
        "print(\"Classification Report:\")\n",
        "print(classification_report(y_test, y_pred))"
      ],
      "metadata": {
        "colab": {
          "base_uri": "https://localhost:8080/"
        },
        "id": "2LY-42ONbzMj",
        "outputId": "cadf3915-9403-4909-f415-ffcae7fe32c5"
      },
      "execution_count": 16,
      "outputs": [
        {
          "output_type": "stream",
          "name": "stdout",
          "text": [
            "Classification Report:\n",
            "              precision    recall  f1-score   support\n",
            "\n",
            "           0       0.80      0.80      0.80      4367\n",
            "           1       0.81      0.82      0.82      7946\n",
            "           2       0.79      0.76      0.77      2687\n",
            "\n",
            "    accuracy                           0.81     15000\n",
            "   macro avg       0.80      0.79      0.80     15000\n",
            "weighted avg       0.81      0.81      0.81     15000\n",
            "\n"
          ]
        }
      ]
    },
    {
      "cell_type": "markdown",
      "source": [
        "Accuracy : 0.81"
      ],
      "metadata": {
        "id": "gMpEdzLMnBGV"
      }
    },
    {
      "cell_type": "markdown",
      "source": [
        "Hyperparameter Tuning & Cross-Validation"
      ],
      "metadata": {
        "id": "RhRwbwAIp661"
      }
    },
    {
      "cell_type": "code",
      "source": [
        "import numpy as np\n",
        "from sklearn.model_selection import RandomizedSearchCV\n",
        "\n",
        "# Defining the Random Forest Classifier\n",
        "rf_classifier = RandomForestClassifier()\n",
        "\n",
        "# hyperparameter grid to search\n",
        "param_grid = {\n",
        "    'n_estimators': [50, 100],\n",
        "    'max_depth': [None, 10],\n",
        "    'min_samples_split': [2, 5],\n",
        "    'min_samples_leaf': [1, 2],\n",
        "    'max_features': ['sqrt', 'log2']\n",
        "}\n",
        "\n",
        "\"\"\"\n",
        " param_grid = {\n",
        "    'n_estimators': [50, 100, 200],\n",
        "    'max_depth': [None, 10, 20],\n",
        "    'min_samples_split': [2, 5, 10],\n",
        "    'min_samples_leaf': [1, 2, 4],\n",
        "    'max_features': ['sqrt', 'log2']\n",
        "}\n",
        "\"\"\"\n",
        "\n",
        "# Initialize RandomizedSearchCV\n",
        "random_search = RandomizedSearchCV(estimator=rf_classifier, param_distributions=param_grid, n_iter=10, cv=5, scoring='accuracy', random_state=42,n_jobs=-1)\n",
        "\n",
        "# Perform hyperparameter tuning on the training data\n",
        "random_search.fit(X_train, y_train)\n",
        "\n",
        "# Get the best hyperparameters\n",
        "best_params = random_search.best_params_\n",
        "print(\"Best Hyperparameters:\", best_params)\n",
        "\n",
        "# Evaluating the model performance on the testing data\n",
        "# best_model = random_search.best_estimator_\n",
        "# y_pred = best_model.predict(X_test)\n",
        "# accuracy = accuracy_score(y_test, y_pred)\n",
        "# print(\"Accuracy on test set:\", accuracy)"
      ],
      "metadata": {
        "colab": {
          "base_uri": "https://localhost:8080/"
        },
        "id": "1UQdbGL3maTv",
        "outputId": "fc357e62-e01b-4d66-b884-ea1367de7fb7"
      },
      "execution_count": 17,
      "outputs": [
        {
          "output_type": "stream",
          "name": "stdout",
          "text": [
            "Best Hyperparameters: {'n_estimators': 100, 'min_samples_split': 2, 'min_samples_leaf': 1, 'max_features': 'log2', 'max_depth': None}\n"
          ]
        }
      ]
    },
    {
      "cell_type": "markdown",
      "source": [
        "Cross Validation Used : 5 fold (cv=5)"
      ],
      "metadata": {
        "id": "iIgUrmDcDmJa"
      }
    },
    {
      "cell_type": "markdown",
      "source": [
        "Performance Validation"
      ],
      "metadata": {
        "id": "vL00s9OtdNi_"
      }
    },
    {
      "cell_type": "markdown",
      "source": [
        "*   Training the classifier with the best parameters on the entire training dataset\n",
        "\n",
        "\n"
      ],
      "metadata": {
        "id": "s7XXpkKgydNV"
      }
    },
    {
      "cell_type": "code",
      "source": [
        "# Train the classifier with the best parameters on the entire training dataset\n",
        "best_rf_classifier = RandomForestClassifier(**best_params, random_state=42)\n",
        "best_rf_classifier.fit(X_train, y_train)\n",
        "\n",
        "# Make predictions on the test dataset\n",
        "y_pred = best_rf_classifier.predict(X_test)\n",
        "\n",
        "# Calculate accuracy\n",
        "accuracy = accuracy_score(y_test, y_pred)\n",
        "print(\"Accuracy:\", accuracy)"
      ],
      "metadata": {
        "colab": {
          "base_uri": "https://localhost:8080/"
        },
        "id": "OOOExH0oyHz2",
        "outputId": "bf03c019-e3f6-4e63-9636-6f463f09a979"
      },
      "execution_count": 20,
      "outputs": [
        {
          "output_type": "stream",
          "name": "stdout",
          "text": [
            "Accuracy: 0.8054\n"
          ]
        }
      ]
    },
    {
      "cell_type": "markdown",
      "source": [
        "Confusion Matrix"
      ],
      "metadata": {
        "id": "LzSrHy0Ue9bA"
      }
    },
    {
      "cell_type": "code",
      "source": [
        "from sklearn.metrics import confusion_matrix\n",
        "import seaborn as sns\n",
        "import matplotlib.pyplot as plt\n",
        "\n",
        "# Generating confusion matrix\n",
        "conf_matrix = confusion_matrix(y_test, y_pred)\n",
        "\n",
        "# Ploting confusion matrix\n",
        "plt.figure(figsize=(7, 5))\n",
        "sns.heatmap(conf_matrix, annot=True, fmt=\"d\", cmap=\"Blues\", cbar=False)\n",
        "plt.title(\"Confusion Matrix\")\n",
        "plt.xlabel(\"Predicted Labels\")\n",
        "plt.ylabel(\"True Labels\")\n",
        "plt.show()"
      ],
      "metadata": {
        "colab": {
          "base_uri": "https://localhost:8080/",
          "height": 487
        },
        "id": "rCfR5VUSe0Mi",
        "outputId": "9ba57335-49b8-4999-aa9d-04498aff13d2"
      },
      "execution_count": 21,
      "outputs": [
        {
          "output_type": "display_data",
          "data": {
            "text/plain": [
              "<Figure size 700x500 with 1 Axes>"
            ],
            "image/png": "[encoded data removed]"
          },
          "metadata": {}
        }
      ]
    },
    {
      "cell_type": "markdown",
      "source": [
        "Threshold Selection"
      ],
      "metadata": {
        "id": "vfQlOn2cgCCV"
      }
    },
    {
      "cell_type": "code",
      "source": [
        "import numpy as np\n",
        "\n",
        "# Predict probabilities for each class\n",
        "y_pred_proba = best_rf_classifier.predict_proba(X_test)\n",
        "\n",
        "# Function to apply threshold and predict class labels\n",
        "def predict_with_threshold(y_pred_proba, threshold):\n",
        "    y_pred_thresholded = np.argmax(y_pred_proba, axis=1)\n",
        "    max_probabilities = np.max(y_pred_proba, axis=1)\n",
        "    y_pred_thresholded[max_probabilities < threshold] = -1  # Assign a negative class label for instances below threshold\n",
        "    return y_pred_thresholded\n",
        "\n",
        "# Define a range of thresholds to try\n",
        "thresholds = [0.3, 0.4, 0.5, 0.6, 0.7]\n",
        "\n",
        "# Evaluate model performance for each threshold\n",
        "for threshold in thresholds:\n",
        "    y_pred_thresholded = predict_with_threshold(y_pred_proba, threshold)\n",
        "    print(f\"Threshold: {threshold}\")\n",
        "    print(\"Classification Report:\")\n",
        "    print(classification_report(y_test, y_pred_thresholded))\n",
        "    print(\"Accuracy:\", accuracy_score(y_test, y_pred_thresholded))\n",
        "    print(\"=\"*50)\n"
      ],
      "metadata": {
        "colab": {
          "base_uri": "https://localhost:8080/"
        },
        "id": "K0NC0UM8gDqc",
        "outputId": "fe222f24-f7cf-4591-d261-5aa02f98be57"
      },
      "execution_count": 22,
      "outputs": [
        {
          "output_type": "stream",
          "name": "stdout",
          "text": [
            "Threshold: 0.3\n",
            "Classification Report:\n",
            "              precision    recall  f1-score   support\n",
            "\n",
            "           0       0.80      0.80      0.80      4367\n",
            "           1       0.81      0.82      0.82      7946\n",
            "           2       0.79      0.76      0.77      2687\n",
            "\n",
            "    accuracy                           0.81     15000\n",
            "   macro avg       0.80      0.79      0.80     15000\n",
            "weighted avg       0.81      0.81      0.81     15000\n",
            "\n",
            "Accuracy: 0.8054\n",
            "==================================================\n",
            "Threshold: 0.4\n",
            "Classification Report:\n",
            "              precision    recall  f1-score   support\n",
            "\n",
            "          -1       0.00      0.00      0.00         0\n",
            "           0       0.80      0.80      0.80      4367\n",
            "           1       0.82      0.82      0.82      7946\n",
            "           2       0.79      0.76      0.77      2687\n",
            "\n",
            "    accuracy                           0.80     15000\n",
            "   macro avg       0.60      0.60      0.60     15000\n",
            "weighted avg       0.81      0.80      0.81     15000\n",
            "\n",
            "Accuracy: 0.8042666666666667\n",
            "==================================================\n",
            "Threshold: 0.5\n",
            "Classification Report:\n",
            "              precision    recall  f1-score   support\n",
            "\n",
            "          -1       0.00      0.00      0.00         0\n",
            "           0       0.80      0.79      0.79      4367\n",
            "           1       0.83      0.81      0.82      7946\n",
            "           2       0.80      0.74      0.77      2687\n",
            "\n",
            "    accuracy                           0.79     15000\n",
            "   macro avg       0.61      0.58      0.59     15000\n",
            "weighted avg       0.81      0.79      0.80     15000\n",
            "\n",
            "Accuracy: 0.7898\n",
            "==================================================\n",
            "Threshold: 0.6\n",
            "Classification Report:\n"
          ]
        },
        {
          "output_type": "stream",
          "name": "stderr",
          "text": [
            "/usr/local/lib/python3.10/dist-packages/sklearn/metrics/_classification.py:1344: UndefinedMetricWarning: Recall and F-score are ill-defined and being set to 0.0 in labels with no true samples. Use `zero_division` parameter to control this behavior.\n",
            "  _warn_prf(average, modifier, msg_start, len(result))\n",
            "/usr/local/lib/python3.10/dist-packages/sklearn/metrics/_classification.py:1344: UndefinedMetricWarning: Recall and F-score are ill-defined and being set to 0.0 in labels with no true samples. Use `zero_division` parameter to control this behavior.\n",
            "  _warn_prf(average, modifier, msg_start, len(result))\n",
            "/usr/local/lib/python3.10/dist-packages/sklearn/metrics/_classification.py:1344: UndefinedMetricWarning: Recall and F-score are ill-defined and being set to 0.0 in labels with no true samples. Use `zero_division` parameter to control this behavior.\n",
            "  _warn_prf(average, modifier, msg_start, len(result))\n",
            "/usr/local/lib/python3.10/dist-packages/sklearn/metrics/_classification.py:1344: UndefinedMetricWarning: Recall and F-score are ill-defined and being set to 0.0 in labels with no true samples. Use `zero_division` parameter to control this behavior.\n",
            "  _warn_prf(average, modifier, msg_start, len(result))\n",
            "/usr/local/lib/python3.10/dist-packages/sklearn/metrics/_classification.py:1344: UndefinedMetricWarning: Recall and F-score are ill-defined and being set to 0.0 in labels with no true samples. Use `zero_division` parameter to control this behavior.\n",
            "  _warn_prf(average, modifier, msg_start, len(result))\n",
            "/usr/local/lib/python3.10/dist-packages/sklearn/metrics/_classification.py:1344: UndefinedMetricWarning: Recall and F-score are ill-defined and being set to 0.0 in labels with no true samples. Use `zero_division` parameter to control this behavior.\n",
            "  _warn_prf(average, modifier, msg_start, len(result))\n",
            "/usr/local/lib/python3.10/dist-packages/sklearn/metrics/_classification.py:1344: UndefinedMetricWarning: Recall and F-score are ill-defined and being set to 0.0 in labels with no true samples. Use `zero_division` parameter to control this behavior.\n",
            "  _warn_prf(average, modifier, msg_start, len(result))\n",
            "/usr/local/lib/python3.10/dist-packages/sklearn/metrics/_classification.py:1344: UndefinedMetricWarning: Recall and F-score are ill-defined and being set to 0.0 in labels with no true samples. Use `zero_division` parameter to control this behavior.\n",
            "  _warn_prf(average, modifier, msg_start, len(result))\n",
            "/usr/local/lib/python3.10/dist-packages/sklearn/metrics/_classification.py:1344: UndefinedMetricWarning: Recall and F-score are ill-defined and being set to 0.0 in labels with no true samples. Use `zero_division` parameter to control this behavior.\n",
            "  _warn_prf(average, modifier, msg_start, len(result))\n",
            "/usr/local/lib/python3.10/dist-packages/sklearn/metrics/_classification.py:1344: UndefinedMetricWarning: Recall and F-score are ill-defined and being set to 0.0 in labels with no true samples. Use `zero_division` parameter to control this behavior.\n",
            "  _warn_prf(average, modifier, msg_start, len(result))\n"
          ]
        },
        {
          "output_type": "stream",
          "name": "stdout",
          "text": [
            "              precision    recall  f1-score   support\n",
            "\n",
            "          -1       0.00      0.00      0.00         0\n",
            "           0       0.82      0.69      0.75      4367\n",
            "           1       0.87      0.76      0.81      7946\n",
            "           2       0.82      0.64      0.72      2687\n",
            "\n",
            "    accuracy                           0.71     15000\n",
            "   macro avg       0.63      0.52      0.57     15000\n",
            "weighted avg       0.85      0.71      0.77     15000\n",
            "\n",
            "Accuracy: 0.715\n",
            "==================================================\n",
            "Threshold: 0.7\n",
            "Classification Report:\n",
            "              precision    recall  f1-score   support\n",
            "\n",
            "          -1       0.00      0.00      0.00         0\n",
            "           0       0.83      0.54      0.65      4367\n",
            "           1       0.91      0.68      0.78      7946\n",
            "           2       0.84      0.51      0.63      2687\n",
            "\n",
            "    accuracy                           0.61     15000\n",
            "   macro avg       0.64      0.43      0.52     15000\n",
            "weighted avg       0.87      0.61      0.72     15000\n",
            "\n",
            "Accuracy: 0.6092666666666666\n",
            "==================================================\n"
          ]
        },
        {
          "output_type": "stream",
          "name": "stderr",
          "text": [
            "/usr/local/lib/python3.10/dist-packages/sklearn/metrics/_classification.py:1344: UndefinedMetricWarning: Recall and F-score are ill-defined and being set to 0.0 in labels with no true samples. Use `zero_division` parameter to control this behavior.\n",
            "  _warn_prf(average, modifier, msg_start, len(result))\n",
            "/usr/local/lib/python3.10/dist-packages/sklearn/metrics/_classification.py:1344: UndefinedMetricWarning: Recall and F-score are ill-defined and being set to 0.0 in labels with no true samples. Use `zero_division` parameter to control this behavior.\n",
            "  _warn_prf(average, modifier, msg_start, len(result))\n"
          ]
        }
      ]
    },
    {
      "cell_type": "markdown",
      "source": [
        "Optimal Threshold : 0.3"
      ],
      "metadata": {
        "id": "g1Yyjesdg3X7"
      }
    },
    {
      "cell_type": "markdown",
      "source": [
        "Feature Importance:"
      ],
      "metadata": {
        "id": "gmJBC77_vC9w"
      }
    },
    {
      "cell_type": "code",
      "source": [
        "import pandas as pd\n",
        "import matplotlib.pyplot as plt\n",
        "\n",
        "\n",
        "# Get feature importances\n",
        "feature_importance = best_rf_classifier.feature_importances_\n",
        "feature_names = X_train.columns\n",
        "\n",
        "# Plot feature importances\n",
        "plt.figure(figsize=(9,7))\n",
        "plt.barh(feature_names, feature_importance)\n",
        "plt.xlabel('Feature Importance')\n",
        "plt.ylabel('Feature')\n",
        "plt.title('Feature Importance')\n",
        "plt.show()\n"
      ],
      "metadata": {
        "colab": {
          "base_uri": "https://localhost:8080/",
          "height": 641
        },
        "id": "bnJFKurVtr0L",
        "outputId": "e9872e0c-d480-4274-914f-557a4b65476f"
      },
      "execution_count": 23,
      "outputs": [
        {
          "output_type": "display_data",
          "data": {
            "text/plain": [
              "<Figure size 900x700 with 1 Axes>"
            ],
            "image/png": "[encoded data removed]"
          },
          "metadata": {}
        }
      ]
    }
  ]
}